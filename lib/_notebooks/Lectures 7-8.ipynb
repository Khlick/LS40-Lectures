{
 "cells": [
  {
   "cell_type": "markdown",
   "metadata": {},
   "source": [
    "# Comparing central tendency of two groups\n",
    "\n",
    "1. Brief intro using Normal distributions\n",
    "2. Introducing 2 data sets\n",
    "   - UCLA salary: heavily skewed data\n",
    "   - Carbon Dioxide rates in chilled and not-chilled plants: less skewed\n",
    "3. Standard Statistics\n",
    "   - Student and Welch t-test\n",
    "   - Nonparametric Mann-Whitney-Wilcoxon test\n",
    "4. "
   ]
  }
 ],
 "metadata": {
  "kernelspec": {
   "display_name": "Python 3",
   "language": "python",
   "name": "python3"
  },
  "language_info": {
   "codemirror_mode": {
    "name": "ipython",
    "version": 3
   },
   "file_extension": ".py",
   "mimetype": "text/x-python",
   "name": "python",
   "nbconvert_exporter": "python",
   "pygments_lexer": "ipython3",
   "version": "3.6.3"
  }
 },
 "nbformat": 4,
 "nbformat_minor": 2
}
