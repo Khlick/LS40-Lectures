{
 "cells": [
  {
   "cell_type": "code",
   "execution_count": 52,
   "metadata": {},
   "outputs": [],
   "source": [
    "def nameCalc(name):\n",
    "    #strip whitespace\n",
    "    allChars = \"\".join(name.split())\n",
    "    vals = [(ord(l)-97) %9 +1 for l in allChars.lower()]\n",
    "    breakdown = \" + \".join([str(v) for v in vals])\n",
    "    total = sum(vals)\n",
    "    while total > 9:\n",
    "        breakdown += f\" = {total}\"\n",
    "        theStr = str(total)\n",
    "        iterVals = [int(s) for s in theStr]\n",
    "        total = sum(iterVals)\n",
    "        breakdown += \" = \" + \" + \".join([str(v) for v in iterVals])\n",
    "    return {\"breakdown\": breakdown + f\" = {total}\", \"Number\": total}\n"
   ]
  },
  {
   "cell_type": "code",
   "execution_count": 59,
   "metadata": {},
   "outputs": [
    {
     "data": {
      "text/plain": [
       "{'Number': 2,\n",
       " 'breakdown': '7 + 9 + 9 + 6 + 6 + 9 + 1 = 47 = 4 + 7 = 11 = 1 + 1 = 2'}"
      ]
     },
     "execution_count": 59,
     "metadata": {},
     "output_type": "execute_result"
    }
   ],
   "source": [
    "nameCalc(\"Griffis\")"
   ]
  }
 ],
 "metadata": {
  "kernelspec": {
   "display_name": "Python 3",
   "language": "python",
   "name": "python3"
  },
  "language_info": {
   "codemirror_mode": {
    "name": "ipython",
    "version": 3
   },
   "file_extension": ".py",
   "mimetype": "text/x-python",
   "name": "python",
   "nbconvert_exporter": "python",
   "pygments_lexer": "ipython3",
   "version": "3.6.3"
  }
 },
 "nbformat": 4,
 "nbformat_minor": 2
}
