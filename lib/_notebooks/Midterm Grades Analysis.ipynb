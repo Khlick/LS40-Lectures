{
 "cells": [
  {
   "cell_type": "markdown",
   "metadata": {},
   "source": [
    "# Course grades"
   ]
  },
  {
   "cell_type": "code",
   "execution_count": 1,
   "metadata": {},
   "outputs": [],
   "source": [
    "%run _init.py\n",
    "%matplotlib inline\n",
    "%config InlineBackend.figure_format = 'png'"
   ]
  },
  {
   "cell_type": "code",
   "execution_count": 4,
   "metadata": {},
   "outputs": [
    {
     "data": {
      "text/html": [
       "<div>\n",
       "<style scoped>\n",
       "    .dataframe tbody tr th:only-of-type {\n",
       "        vertical-align: middle;\n",
       "    }\n",
       "\n",
       "    .dataframe tbody tr th {\n",
       "        vertical-align: top;\n",
       "    }\n",
       "\n",
       "    .dataframe thead th {\n",
       "        text-align: right;\n",
       "    }\n",
       "</style>\n",
       "<table border=\"1\" class=\"dataframe\">\n",
       "  <thead>\n",
       "    <tr style=\"text-align: right;\">\n",
       "      <th></th>\n",
       "      <th>First name</th>\n",
       "      <th>Last name</th>\n",
       "      <th>ID number</th>\n",
       "      <th>Email address</th>\n",
       "      <th>Midterm</th>\n",
       "    </tr>\n",
       "  </thead>\n",
       "  <tbody>\n",
       "    <tr>\n",
       "      <th>0</th>\n",
       "      <td>DONA</td>\n",
       "      <td>ABOUD SYRIANI</td>\n",
       "      <td>904767932</td>\n",
       "      <td>DONA.SYRIANI@GMAIL.COM</td>\n",
       "      <td>66.5</td>\n",
       "    </tr>\n",
       "    <tr>\n",
       "      <th>1</th>\n",
       "      <td>PREET</td>\n",
       "      <td>BAINS</td>\n",
       "      <td>904816150</td>\n",
       "      <td>PREET23BAINS@YAHOO.COM</td>\n",
       "      <td>64.0</td>\n",
       "    </tr>\n",
       "    <tr>\n",
       "      <th>2</th>\n",
       "      <td>ADRIANNA</td>\n",
       "      <td>BASIN</td>\n",
       "      <td>704336608</td>\n",
       "      <td>abasin14@ucla.edu</td>\n",
       "      <td>70.5</td>\n",
       "    </tr>\n",
       "    <tr>\n",
       "      <th>3</th>\n",
       "      <td>NOVELPREET</td>\n",
       "      <td>BOPARAI</td>\n",
       "      <td>704752031</td>\n",
       "      <td>novelpreet@gmail.com</td>\n",
       "      <td>71.0</td>\n",
       "    </tr>\n",
       "    <tr>\n",
       "      <th>4</th>\n",
       "      <td>CARA</td>\n",
       "      <td>BUDZINSKI</td>\n",
       "      <td>304741266</td>\n",
       "      <td>CARABUDZINSKI@AOL.COM</td>\n",
       "      <td>59.0</td>\n",
       "    </tr>\n",
       "    <tr>\n",
       "      <th>5</th>\n",
       "      <td>LAUREN</td>\n",
       "      <td>BUI</td>\n",
       "      <td>404767227</td>\n",
       "      <td>LAURENBUI98@YAHOO.COM</td>\n",
       "      <td>72.0</td>\n",
       "    </tr>\n",
       "    <tr>\n",
       "      <th>6</th>\n",
       "      <td>MARIA</td>\n",
       "      <td>CALDERON LEON</td>\n",
       "      <td>804737945</td>\n",
       "      <td>Mdcalder16@gmail.com</td>\n",
       "      <td>72.0</td>\n",
       "    </tr>\n",
       "    <tr>\n",
       "      <th>7</th>\n",
       "      <td>KASSANDRA ANGELIQUE</td>\n",
       "      <td>CANALITA</td>\n",
       "      <td>704736748</td>\n",
       "      <td>KASCANALITA@GMAIL.COM</td>\n",
       "      <td>68.5</td>\n",
       "    </tr>\n",
       "    <tr>\n",
       "      <th>8</th>\n",
       "      <td>ALLEN</td>\n",
       "      <td>CHEN</td>\n",
       "      <td>704903247</td>\n",
       "      <td>allenc543@gmail.com</td>\n",
       "      <td>44.5</td>\n",
       "    </tr>\n",
       "    <tr>\n",
       "      <th>9</th>\n",
       "      <td>JACEY</td>\n",
       "      <td>CHINN</td>\n",
       "      <td>804756359</td>\n",
       "      <td>jchinn2016@g.ucla.edu</td>\n",
       "      <td>50.5</td>\n",
       "    </tr>\n",
       "  </tbody>\n",
       "</table>\n",
       "</div>"
      ],
      "text/plain": [
       "            First name      Last name  ID number           Email address  \\\n",
       "0                 DONA  ABOUD SYRIANI  904767932  DONA.SYRIANI@GMAIL.COM   \n",
       "1                PREET          BAINS  904816150  PREET23BAINS@YAHOO.COM   \n",
       "2             ADRIANNA          BASIN  704336608       abasin14@ucla.edu   \n",
       "3           NOVELPREET        BOPARAI  704752031    novelpreet@gmail.com   \n",
       "4                 CARA      BUDZINSKI  304741266   CARABUDZINSKI@AOL.COM   \n",
       "5               LAUREN            BUI  404767227   LAURENBUI98@YAHOO.COM   \n",
       "6                MARIA  CALDERON LEON  804737945    Mdcalder16@gmail.com   \n",
       "7  KASSANDRA ANGELIQUE       CANALITA  704736748   KASCANALITA@GMAIL.COM   \n",
       "8                ALLEN           CHEN  704903247     allenc543@gmail.com   \n",
       "9                JACEY          CHINN  804756359   jchinn2016@g.ucla.edu   \n",
       "\n",
       "   Midterm  \n",
       "0     66.5  \n",
       "1     64.0  \n",
       "2     70.5  \n",
       "3     71.0  \n",
       "4     59.0  \n",
       "5     72.0  \n",
       "6     72.0  \n",
       "7     68.5  \n",
       "8     44.5  \n",
       "9     50.5  "
      ]
     },
     "execution_count": 4,
     "metadata": {},
     "output_type": "execute_result"
    }
   ],
   "source": [
    "data = pd.read_csv('data/Midterm1Grades.csv');\n",
    "data.head(10)"
   ]
  },
  {
   "cell_type": "code",
   "execution_count": 18,
   "metadata": {},
   "outputs": [
    {
     "data": {
      "image/png": "[encoded data removed]",
      "text/plain": [
       "<matplotlib.figure.Figure at 0x23eff690048>"
      ]
     },
     "metadata": {},
     "output_type": "display_data"
    }
   ],
   "source": [
    "kd = stats.kde.gaussian_kde(data['Midterm'],bw_method=0.75);\n",
    "\n",
    "\n",
    "#pyp.hist(data['Midterm'],density=True);\n",
    "x = np.linspace(0,100,1000);\n",
    "pyp.plot(x,kd(x));"
   ]
  }
 ],
 "metadata": {
  "kernelspec": {
   "display_name": "Python 3",
   "language": "python",
   "name": "python3"
  },
  "language_info": {
   "codemirror_mode": {
    "name": "ipython",
    "version": 3
   },
   "file_extension": ".py",
   "mimetype": "text/x-python",
   "name": "python",
   "nbconvert_exporter": "python",
   "pygments_lexer": "ipython3",
   "version": "3.7.3"
  }
 },
 "nbformat": 4,
 "nbformat_minor": 2
}
