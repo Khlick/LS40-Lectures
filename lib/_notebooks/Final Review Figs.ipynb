{
 "cells": [
  {
   "cell_type": "markdown",
   "metadata": {},
   "source": [
    "# Final Exam Review - extra figures"
   ]
  },
  {
   "cell_type": "code",
   "execution_count": null,
   "metadata": {},
   "outputs": [],
   "source": [
    "# R function for creating multivarite correlations.\n",
    "createCorrelated <- function (n,rhos = 0.6,\n",
    "                                mus=c(0,1),sigmas=c(1,0.5), type = 'norm',\n",
    "                                sig = nchar(max(abs(mus)))+2, do.plot=F){\n",
    "  ## Input rhos length should be length(mus)-1, if scalar it is recycled\n",
    "  nVars <- length(mus)\n",
    "  if (length(rhos)==1 || length(rhos)<(nVars-1)){\n",
    "    rhos <- rep(rhos, ceiling((nVars-1)/length(rhos)))[1:(nVars-1)]\n",
    "  } else if(length(rhos) > (nVars-1)) {\n",
    "    rhos <- rhos[1:(nVars-1)]\n",
    "  }\n",
    "  if(length(type) < nVars){\n",
    "    type <- rep(type,ceiling(nVars/length(type)))[1:nVars]\n",
    "  } else if(length(type) > nVars){\n",
    "    type = type[1:nVars]\n",
    "  }\n",
    "  matmult <- match.fun('%*%')\n",
    "\n",
    "  theta <- acos(rhos)\n",
    "  uX <- matrix(NA,nrow=n,ncol=nVars)\n",
    "  for (m in 1:nVars){\n",
    "    uX[,m] <- rnorm(n,mus[m], sigmas[m])\n",
    "  }\n",
    "  uXcnt <- scale(uX,center=TRUE,scale=FALSE)\n",
    "  Id <- diag(n)\n",
    "  Q <- qr.Q(qr(uXcnt[,1,drop=FALSE])) #Use first column as correlator\n",
    "  P <- tcrossprod(Q)\n",
    "  Orthogs <- apply(as.matrix(uXcnt[,-1]),MARGIN = 2,FUN = function(c) (Id-P)%*%c)\n",
    "  Ymat <- cbind(uXcnt[,1],Orthogs)\n",
    "  Ymat <- Ymat %*% diag(1/sqrt(colSums(Ymat^2)))\n",
    "  output <- cbind(\n",
    "    uX[,1],\n",
    "    Ymat[,rep(1,length(theta))] *\n",
    "      matrix(rep(1/tan(theta),nrow(Ymat)),ncol = length(theta),byrow=T) +\n",
    "      Ymat[,-1]\n",
    "  )\n",
    "  # realign to origninal mus\n",
    "  output <- sweep(x = output, MARGIN = 2, mus - apply(output,2,mean),FUN = `+`)\n",
    "  # Apply type\n",
    "\n",
    "  # apply signifs\n",
    "  output <- signif(output,digits = sig)\n",
    "\n",
    "  if(do.plot){\n",
    "    pairs(output)\n",
    "  }\n",
    "  invisible(output)\n",
    "}"
   ]
  }
 ],
 "metadata": {
  "kernelspec": {
   "display_name": "Python 3",
   "language": "python",
   "name": "python3"
  },
  "language_info": {
   "codemirror_mode": {
    "name": "ipython",
    "version": 3
   },
   "file_extension": ".py",
   "mimetype": "text/x-python",
   "name": "python",
   "nbconvert_exporter": "python",
   "pygments_lexer": "ipython3",
   "version": "3.7.3"
  }
 },
 "nbformat": 4,
 "nbformat_minor": 2
}
